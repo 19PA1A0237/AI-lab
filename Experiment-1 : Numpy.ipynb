{
  "nbformat": 4,
  "nbformat_minor": 0,
  "metadata": {
    "colab": {
      "name": "Untitled1.ipynb",
      "provenance": [],
      "authorship_tag": "ABX9TyO18mVqrchmYaHPbZJwbZLm",
      "include_colab_link": true
    },
    "kernelspec": {
      "name": "python3",
      "display_name": "Python 3"
    }
  },
  "cells": [
    {
      "cell_type": "markdown",
      "metadata": {
        "id": "view-in-github",
        "colab_type": "text"
      },
      "source": [
        "<a href=\"https://colab.research.google.com/github/19PA1A0237/AI-lab/blob/master/Experiment-1%20%3A%20Numpy.ipynb\" target=\"_parent\"><img src=\"https://colab.research.google.com/assets/colab-badge.svg\" alt=\"Open In Colab\"/></a>"
      ]
    },
    {
      "cell_type": "markdown",
      "metadata": {
        "id": "vtyTP211ZFEW",
        "colab_type": "text"
      },
      "source": [
        "# Experiment 1"
      ]
    },
    {
      "cell_type": "markdown",
      "metadata": {
        "id": "dAfh37G3ZTzy",
        "colab_type": "text"
      },
      "source": [
        "## 1) Different ways to create Numpy arrays."
      ]
    },
    {
      "cell_type": "code",
      "metadata": {
        "id": "2qf8xn9dXkLo",
        "colab_type": "code",
        "colab": {
          "base_uri": "https://localhost:8080/",
          "height": 34
        },
        "outputId": "79284e23-b94b-4f06-81f6-138127bc8cef"
      },
      "source": [
        "import numpy as np\n",
        "a = np.array([4,8,9])\n",
        "print(a)"
      ],
      "execution_count": null,
      "outputs": [
        {
          "output_type": "stream",
          "text": [
            "[4 8 9]\n"
          ],
          "name": "stdout"
        }
      ]
    },
    {
      "cell_type": "code",
      "metadata": {
        "id": "aNSnmrdDXym8",
        "colab_type": "code",
        "colab": {
          "base_uri": "https://localhost:8080/",
          "height": 51
        },
        "outputId": "071b84e6-7702-476f-83db-5fbd1404d9bc"
      },
      "source": [
        "s = np.array([[7,3,4],[9,2,6]])\n",
        "print(s)"
      ],
      "execution_count": 10,
      "outputs": [
        {
          "output_type": "stream",
          "text": [
            "[[7 3 4]\n",
            " [9 2 6]]\n"
          ],
          "name": "stdout"
        }
      ]
    },
    {
      "cell_type": "markdown",
      "metadata": {
        "id": "kvUZVyEpaMC2",
        "colab_type": "text"
      },
      "source": [
        "## 2) Add,remove,modify elements in an array."
      ]
    },
    {
      "cell_type": "code",
      "metadata": {
        "id": "lu6pDEIzX2yX",
        "colab_type": "code",
        "colab": {
          "base_uri": "https://localhost:8080/",
          "height": 34
        },
        "outputId": "2e5d5cc4-f625-491e-e75f-808e206f70a0"
      },
      "source": [
        "b = np.append(a,[6,5,8])\n",
        "print(b)"
      ],
      "execution_count": null,
      "outputs": [
        {
          "output_type": "stream",
          "text": [
            "[4 8 9 6 5 8]\n"
          ],
          "name": "stdout"
        }
      ]
    },
    {
      "cell_type": "code",
      "metadata": {
        "id": "MuXnVZakX6B8",
        "colab_type": "code",
        "colab": {
          "base_uri": "https://localhost:8080/",
          "height": 34
        },
        "outputId": "e441610a-fe11-4534-b516-d6cf87bb553a"
      },
      "source": [
        "q = np.delete(a,2)\n",
        "print(q)"
      ],
      "execution_count": null,
      "outputs": [
        {
          "output_type": "stream",
          "text": [
            "[4 8]\n"
          ],
          "name": "stdout"
        }
      ]
    },
    {
      "cell_type": "code",
      "metadata": {
        "id": "w4GzVw_2X95y",
        "colab_type": "code",
        "colab": {
          "base_uri": "https://localhost:8080/",
          "height": 34
        },
        "outputId": "b794bc14-9d31-445f-80d5-93bd73f21e6e"
      },
      "source": [
        "b = np.array([6,4,3,1,9,5])\n",
        "b[b<2]=-1\n",
        "print(b)"
      ],
      "execution_count": null,
      "outputs": [
        {
          "output_type": "stream",
          "text": [
            "[ 6  4  3 -1  9  5]\n"
          ],
          "name": "stdout"
        }
      ]
    },
    {
      "cell_type": "markdown",
      "metadata": {
        "id": "e1dQ7HCQaXFe",
        "colab_type": "text"
      },
      "source": [
        "## 3)Arthematic operations on Numpy array."
      ]
    },
    {
      "cell_type": "code",
      "metadata": {
        "id": "jTmnnarCYHn5",
        "colab_type": "code",
        "colab": {
          "base_uri": "https://localhost:8080/",
          "height": 154
        },
        "outputId": "c9214db3-f32a-4e26-b412-64e3c2bdc8f2"
      },
      "source": [
        "import numpy as np\n",
        "b = np.array([[1,2],[4,5]])\n",
        "c = np.array([[6,7],[7,9]])\n",
        "print(np.add(b,c))\n",
        "print(np.subtract(b,c))\n",
        "print(np.multiply(b,c))\n",
        "print (np.divide(b,c))"
      ],
      "execution_count": null,
      "outputs": [
        {
          "output_type": "stream",
          "text": [
            "[[ 7  9]\n",
            " [11 14]]\n",
            "[[-5 -5]\n",
            " [-3 -4]]\n",
            "[[ 6 14]\n",
            " [28 45]]\n",
            "[[0.16666667 0.28571429]\n",
            " [0.57142857 0.55555556]]\n"
          ],
          "name": "stdout"
        }
      ]
    },
    {
      "cell_type": "markdown",
      "metadata": {
        "id": "MDXEn4iLafkL",
        "colab_type": "text"
      },
      "source": [
        "# 4)Slicing and iterating of numpy arrays."
      ]
    },
    {
      "cell_type": "markdown",
      "metadata": {
        "id": "9YK3mOHaajbd",
        "colab_type": "text"
      },
      "source": [
        "### slicing"
      ]
    },
    {
      "cell_type": "code",
      "metadata": {
        "id": "DGjVBDamYmWT",
        "colab_type": "code",
        "colab": {
          "base_uri": "https://localhost:8080/",
          "height": 34
        },
        "outputId": "40cca998-7f01-462b-834e-b6922270ebb4"
      },
      "source": [
        "import numpy as np\n",
        "arr = np.array([7,5,3,9,2,5])\n",
        "print(arr[2:5])"
      ],
      "execution_count": null,
      "outputs": [
        {
          "output_type": "stream",
          "text": [
            "[3 9 2]\n"
          ],
          "name": "stdout"
        }
      ]
    },
    {
      "cell_type": "markdown",
      "metadata": {
        "id": "-zHZ9X_XatUp",
        "colab_type": "text"
      },
      "source": [
        "### iterating"
      ]
    },
    {
      "cell_type": "code",
      "metadata": {
        "id": "IFzlizySYq1A",
        "colab_type": "code",
        "colab": {
          "base_uri": "https://localhost:8080/",
          "height": 119
        },
        "outputId": "767b4829-5ea3-448e-e182-9882134b59dc"
      },
      "source": [
        "for x in arr:\n",
        "  print(x)"
      ],
      "execution_count": null,
      "outputs": [
        {
          "output_type": "stream",
          "text": [
            "7\n",
            "5\n",
            "3\n",
            "9\n",
            "2\n",
            "5\n"
          ],
          "name": "stdout"
        }
      ]
    },
    {
      "cell_type": "markdown",
      "metadata": {
        "id": "1QeBq9nXa5Z-",
        "colab_type": "text"
      },
      "source": [
        "## 5)Matrix operation on numpy arrays."
      ]
    },
    {
      "cell_type": "code",
      "metadata": {
        "id": "0HEJ20pZYu7m",
        "colab_type": "code",
        "colab": {
          "base_uri": "https://localhost:8080/",
          "height": 119
        },
        "outputId": "5253f972-3b14-4eb9-d843-9bafed6a40e8"
      },
      "source": [
        "import numpy as np\n",
        "d = np.array([[4,3],[2,1]])\n",
        "v = np.array([[8,7],[6,5]])\n",
        "print(np.add(d,v))\n",
        "print(np.subtract(d,v))    \n",
        "print(np.divide(d,v))"
      ],
      "execution_count": null,
      "outputs": [
        {
          "output_type": "stream",
          "text": [
            "[[12 10]\n",
            " [ 8  6]]\n",
            "[[-4 -4]\n",
            " [-4 -4]]\n",
            "[[0.5        0.42857143]\n",
            " [0.33333333 0.2       ]]\n"
          ],
          "name": "stdout"
        }
      ]
    }
  ]
}